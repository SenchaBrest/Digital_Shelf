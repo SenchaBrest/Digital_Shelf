{
  "nbformat": 4,
  "nbformat_minor": 0,
  "metadata": {
    "colab": {
      "provenance": []
    },
    "kernelspec": {
      "name": "python3",
      "display_name": "Python 3"
    },
    "language_info": {
      "name": "python"
    },
    "accelerator": "GPU",
    "gpuClass": "standard"
  },
  "cells": [
    {
      "cell_type": "code",
      "execution_count": null,
      "metadata": {
        "id": "cDdOeuI2NKok"
      },
      "outputs": [],
      "source": [
        "# Подключаемся к нашему диску\n",
        "from google.colab import drive\n",
        "drive.mount(\"/content/gdrive\")"
      ]
    },
    {
      "cell_type": "code",
      "source": [
        "# Перходим в наш диск\n",
        "%cd /content/gdrive/MyDrive"
      ],
      "metadata": {
        "id": "m_B1CdYkOH-r"
      },
      "execution_count": null,
      "outputs": []
    },
    {
      "cell_type": "code",
      "source": [
        "# Создаем директорию, если ее нет\n",
        "import os\n",
        "if not os.path.isdir(\"Object-Detection\"):\n",
        "  os.makedirs(\"Object-Detection\")"
      ],
      "metadata": {
        "id": "Wid8qd77OUHl"
      },
      "execution_count": 3,
      "outputs": []
    },
    {
      "cell_type": "code",
      "source": [
        "# И переходим в нее\n",
        "%cd /content/gdrive/MyDrive/Object-Detection/"
      ],
      "metadata": {
        "id": "7O1NqJqwOqud"
      },
      "execution_count": null,
      "outputs": []
    },
    {
      "cell_type": "code",
      "source": [
        "# Клонируем в нее yolov7\n",
        "!git clone https://github.com/WongKinYiu/yolov7.git"
      ],
      "metadata": {
        "id": "Q1f_DJQqO6-p"
      },
      "execution_count": null,
      "outputs": []
    },
    {
      "cell_type": "code",
      "source": [
        "# Переходим в сам проект\n",
        "%cd yolov7"
      ],
      "metadata": {
        "id": "__DjwTE38hvC"
      },
      "execution_count": null,
      "outputs": []
    },
    {
      "cell_type": "code",
      "source": [
        "# Скачиваем веса для дальнейшего обучения\n",
        "!wget https://github.com/WongKinYiu/yolov7/releases/download/v0.1/yolov7x.pt"
      ],
      "metadata": {
        "id": "Gkij0rgZoDI0"
      },
      "execution_count": null,
      "outputs": []
    },
    {
      "cell_type": "code",
      "source": [
        "# Вставляем скопированный код с сайта roboflow для использования датасета"
      ],
      "metadata": {
        "id": "439jxUHm6qnY"
      },
      "execution_count": null,
      "outputs": []
    },
    {
      "cell_type": "code",
      "source": [
        "# Обучаем на нашем датасете (в --data надо прописать соответствующий путь)\n",
        "!python train.py --img 640 --batch 8 --epochs 100 --data /content/gdrive/MyDrive/Object-Detection/yolov7/hackaton-1/data.yaml --cfg /content/gdrive/MyDrive/Object-Detection/yolov7/cfg/training/yolov7x.yaml --weights yolov7x.pt --name objects"
      ],
      "metadata": {
        "id": "CVvwn-2anSwf"
      },
      "execution_count": null,
      "outputs": []
    }
  ]
}