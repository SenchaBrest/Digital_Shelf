{
 "cells": [
  {
   "cell_type": "code",
   "execution_count": null,
   "metadata": {
    "id": "cDdOeuI2NKok"
   },
   "outputs": [],
   "source": [
    "# Подключаемся к нашему диску\n",
    "from google.colab import drive\n",
    "drive.mount(\"/content/gdrive\")"
   ]
  },
  {
   "cell_type": "code",
   "execution_count": null,
   "metadata": {
    "id": "m_B1CdYkOH-r"
   },
   "outputs": [],
   "source": [
    "# Перходим в наш диск\n",
    "%cd /content/gdrive/MyDrive"
   ]
  },
  {
   "cell_type": "code",
   "execution_count": 3,
   "metadata": {
    "id": "Wid8qd77OUHl"
   },
   "outputs": [],
   "source": [
    "# Создаем директорию, если ее нет\n",
    "import os\n",
    "if not os.path.isdir(\"Object-Detection\"):\n",
    "  os.makedirs(\"Object-Detection\")"
   ]
  },
  {
   "cell_type": "code",
   "execution_count": null,
   "metadata": {
    "id": "7O1NqJqwOqud"
   },
   "outputs": [],
   "source": [
    "# И переходим в нее\n",
    "%cd /content/gdrive/MyDrive/Object-Detection/"
   ]
  },
  {
   "cell_type": "code",
   "execution_count": null,
   "metadata": {
    "id": "Q1f_DJQqO6-p"
   },
   "outputs": [],
   "source": [
    "# Клонируем в нее yolov5\n",
    "!git clone https://github.com/ultralytics/yolov5.git"
   ]
  },
  {
   "cell_type": "code",
   "execution_count": null,
   "metadata": {
    "id": "__DjwTE38hvC"
   },
   "outputs": [],
   "source": [
    "# Переходим в сам проект\n",
    "%cd yolov5"
   ]
  },
  {
   "cell_type": "code",
   "execution_count": null,
   "metadata": {
    "id": "Gkij0rgZoDI0"
   },
   "outputs": [],
   "source": [
    "# Скачиваем веса для дальнейшего обучения\n",
    "!wget https://github.com/ultralytics/yolov5/releases/download/v6.2/yolov5x.pt"
   ]
  },
  {
   "cell_type": "code",
   "execution_count": null,
   "metadata": {
    "id": "439jxUHm6qnY"
   },
   "outputs": [],
   "source": [
    "# Вставляем скопированный код с сайта roboflow для использования датасета"
   ]
  },
  {
   "cell_type": "code",
   "execution_count": null,
   "metadata": {
    "id": "CVvwn-2anSwf"
   },
   "outputs": [],
   "source": [
    "# Обучаем на нашем датасете (в --data надо прописать соответствующий путь)\n",
    "!python train.py --img 640 --batch 8 --epochs 100 --data /content/gdrive/MyDrive/Object-Detection/yolov5/hackaton-1/data.yaml --cfg /content/gdrive/MyDrive/Object-Detection/yolov5/models/yolov5x.yaml --weights yolov5x.pt --name objects"
   ]
  }
 ],
 "metadata": {
  "accelerator": "GPU",
  "colab": {
   "provenance": []
  },
  "gpuClass": "standard",
  "kernelspec": {
   "display_name": "Python 3 (ipykernel)",
   "language": "python",
   "name": "python3"
  },
  "language_info": {
   "codemirror_mode": {
    "name": "ipython",
    "version": 3
   },
   "file_extension": ".py",
   "mimetype": "text/x-python",
   "name": "python",
   "nbconvert_exporter": "python",
   "pygments_lexer": "ipython3",
   "version": "3.10.6"
  }
 },
 "nbformat": 4,
 "nbformat_minor": 1
}
